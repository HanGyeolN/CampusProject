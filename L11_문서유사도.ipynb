{
  "nbformat": 4,
  "nbformat_minor": 0,
  "metadata": {
    "colab": {
      "name": "L11_문서유사도.ipynb",
      "version": "0.3.2",
      "provenance": [],
      "collapsed_sections": [
        "43BZqG4zh9X1"
      ],
      "include_colab_link": true
    },
    "kernelspec": {
      "name": "python3",
      "display_name": "Python 3"
    }
  },
  "cells": [
    {
      "cell_type": "markdown",
      "metadata": {
        "id": "view-in-github",
        "colab_type": "text"
      },
      "source": [
        "<a href=\"https://colab.research.google.com/github/HanGyeolN/CampusProject/blob/master/L11_%EB%AC%B8%EC%84%9C%EC%9C%A0%EC%82%AC%EB%8F%84.ipynb\" target=\"_parent\"><img src=\"https://colab.research.google.com/assets/colab-badge.svg\" alt=\"Open In Colab\"/></a>"
      ]
    },
    {
      "cell_type": "markdown",
      "metadata": {
        "id": "3oAWvULByjJY",
        "colab_type": "text"
      },
      "source": [
        "# Feature Extraction\n",
        "\n",
        "Feature extraction is usually used when the original data was very different. In particular when you could not have used the raw data.\n",
        "\n",
        "E.g. original data were images. You extract the redness value, or a description of the shape of an object in the image. It's lossy, but at least you get some result now.\n",
        "\n",
        "Feature engineering is the careful preprocessing into more meaningful features, even if you could have used the old data.\n",
        "\n",
        "E.g. instead of using variables x, y, z you decide to use log(x)-sqrt(y)*z instead, because your engineering knowledge tells you that this derived quantity is more meaningful to solve your problem. You get better results than without."
      ]
    },
    {
      "cell_type": "code",
      "metadata": {
        "id": "-Gpzokimv2Jv",
        "colab_type": "code",
        "outputId": "676c79ec-bae6-4aa4-c5b9-861ae5ce2f00",
        "colab": {
          "base_uri": "https://localhost:8080/",
          "height": 127
        }
      },
      "source": [
        "from google.colab import drive\n",
        "drive.mount('/content/drive')"
      ],
      "execution_count": 0,
      "outputs": [
        {
          "output_type": "stream",
          "text": [
            "Go to this URL in a browser: https://accounts.google.com/o/oauth2/auth?client_id=947318989803-6bn6qk8qdgf4n4g3pfee6491hc0brc4i.apps.googleusercontent.com&redirect_uri=urn%3Aietf%3Awg%3Aoauth%3A2.0%3Aoob&scope=email%20https%3A%2F%2Fwww.googleapis.com%2Fauth%2Fdocs.test%20https%3A%2F%2Fwww.googleapis.com%2Fauth%2Fdrive%20https%3A%2F%2Fwww.googleapis.com%2Fauth%2Fdrive.photos.readonly%20https%3A%2F%2Fwww.googleapis.com%2Fauth%2Fpeopleapi.readonly&response_type=code\n",
            "\n",
            "Enter your authorization code:\n",
            "··········\n",
            "Mounted at /content/drive\n"
          ],
          "name": "stdout"
        }
      ]
    },
    {
      "cell_type": "markdown",
      "metadata": {
        "id": "43BZqG4zh9X1",
        "colab_type": "text"
      },
      "source": [
        "## 코사인 유사도 : 예제"
      ]
    },
    {
      "cell_type": "code",
      "metadata": {
        "id": "Myu2-Hc8h5zK",
        "colab_type": "code",
        "colab": {}
      },
      "source": [
        "import numpy as np\n",
        "from numpy.linalg import norm"
      ],
      "execution_count": 0,
      "outputs": []
    },
    {
      "cell_type": "code",
      "metadata": {
        "id": "G4JwJXMJugFK",
        "colab_type": "code",
        "colab": {}
      },
      "source": [
        "def cos_sim(x, y):\n",
        "  '''\n",
        "  코사인 유사도 계산\n",
        "  두개의 문서에 대해 유사도를 계산한다.\n",
        "  유사도 = (X1 . X2) / ( |X1| * |X2| )\n",
        "  '''\n",
        "  return ( np.dot(x,y) ) / ( norm(x) * norm(y) )\n",
        "  \n",
        "  "
      ],
      "execution_count": 0,
      "outputs": []
    },
    {
      "cell_type": "code",
      "metadata": {
        "id": "NQxPF7E_uxC4",
        "colab_type": "code",
        "outputId": "8a436858-0c2b-4086-de90-20b5612f72e0",
        "colab": {
          "base_uri": "https://localhost:8080/"
        }
      },
      "source": [
        "doc1 = np.array([1,1,0,1])\n",
        "doc2 = np.array([1,0,1,1])\n",
        "doc3 = np.array([2,0,2,2])\n",
        "\n",
        "print(cos_sim(doc1, doc2))\n",
        "print(cos_sim(doc1, doc3))\n",
        "print(cos_sim(doc2, doc3))"
      ],
      "execution_count": 0,
      "outputs": [
        {
          "output_type": "stream",
          "text": [
            "0.6666666666666667\n",
            "0.6666666666666667\n",
            "1.0000000000000002\n"
          ],
          "name": "stdout"
        }
      ]
    },
    {
      "cell_type": "markdown",
      "metadata": {
        "id": "SZcQzkTdxNrs",
        "colab_type": "text"
      },
      "source": [
        "## 영화 데이터 코사인 유사도 예제\n",
        "Objective : 영화의 개요에 나오는 단어를 가지고, 유사 영화를 찾는다.\n"
      ]
    },
    {
      "cell_type": "markdown",
      "metadata": {
        "id": "nV4APwkBxuQ1",
        "colab_type": "text"
      },
      "source": [
        "### 1.2.1 Data Loading"
      ]
    },
    {
      "cell_type": "code",
      "metadata": {
        "id": "Nt72mo1fvauv",
        "colab_type": "code",
        "colab": {}
      },
      "source": [
        "import pandas as pd\n",
        "import numpy as np\n",
        "\n",
        "from sklearn.feature_extraction.text import TfidfVectorizer\n",
        "\n",
        "import json"
      ],
      "execution_count": 0,
      "outputs": []
    },
    {
      "cell_type": "code",
      "metadata": {
        "id": "BANyTuaixgyP",
        "colab_type": "code",
        "outputId": "dcbe4460-c4b2-488f-84d4-40d46156b9da",
        "colab": {
          "base_uri": "https://localhost:8080/",
          "height": 53
        }
      },
      "source": [
        "movies = pd.read_csv('/content/drive/My Drive/Colab Notebooks/Data_Analysis/data/the-movies-dataset/movies_metadata.csv')"
      ],
      "execution_count": 0,
      "outputs": [
        {
          "output_type": "stream",
          "text": [
            "/usr/local/lib/python3.6/dist-packages/IPython/core/interactiveshell.py:2718: DtypeWarning: Columns (10) have mixed types. Specify dtype option on import or set low_memory=False.\n",
            "  interactivity=interactivity, compiler=compiler, result=result)\n"
          ],
          "name": "stderr"
        }
      ]
    },
    {
      "cell_type": "code",
      "metadata": {
        "id": "BlUh2YS6xmls",
        "colab_type": "code",
        "colab": {}
      },
      "source": [
        "# movies.head() # Vis\n",
        "data = movies"
      ],
      "execution_count": 0,
      "outputs": []
    },
    {
      "cell_type": "markdown",
      "metadata": {
        "id": "mkz5GrRFzhxQ",
        "colab_type": "text"
      },
      "source": [
        "### 1.2.2 na 처리\n",
        "\n",
        "- 제거할경우 reset_index"
      ]
    },
    {
      "cell_type": "code",
      "metadata": {
        "id": "ra_EXfqmzE-X",
        "colab_type": "code",
        "outputId": "d8920589-ccdb-4159-e033-a7c94cfd95b9",
        "colab": {
          "base_uri": "https://localhost:8080/",
          "height": 125
        }
      },
      "source": [
        "data[['overview']].info()\n",
        "# res : 900개의 null값"
      ],
      "execution_count": 0,
      "outputs": [
        {
          "output_type": "stream",
          "text": [
            "<class 'pandas.core.frame.DataFrame'>\n",
            "RangeIndex: 45466 entries, 0 to 45465\n",
            "Data columns (total 1 columns):\n",
            "overview    44512 non-null object\n",
            "dtypes: object(1)\n",
            "memory usage: 355.3+ KB\n"
          ],
          "name": "stdout"
        }
      ]
    },
    {
      "cell_type": "code",
      "metadata": {
        "id": "kodTYcahzPOC",
        "colab_type": "code",
        "colab": {}
      },
      "source": [
        "data['overview'] = data['overview'].fillna('')\n"
      ],
      "execution_count": 0,
      "outputs": []
    },
    {
      "cell_type": "markdown",
      "metadata": {
        "id": "VlQeMZgqydSn",
        "colab_type": "text"
      },
      "source": [
        "### 1.2.3 tfidf 생성"
      ]
    },
    {
      "cell_type": "code",
      "metadata": {
        "id": "FUKsLsUPxn-d",
        "colab_type": "code",
        "colab": {}
      },
      "source": [
        "tfidf = TfidfVectorizer(stop_words = 'english')"
      ],
      "execution_count": 0,
      "outputs": []
    },
    {
      "cell_type": "code",
      "metadata": {
        "id": "57ij1V3Hy466",
        "colab_type": "code",
        "colab": {}
      },
      "source": [
        "input_size = int(input('size : '))\n",
        "tfidf_mat = tfidf.fit_transform(data['overview'].head(input_size))"
      ],
      "execution_count": 0,
      "outputs": []
    },
    {
      "cell_type": "markdown",
      "metadata": {
        "id": "FE2buDlc3uu_",
        "colab_type": "text"
      },
      "source": [
        "### 1.2.4 코사인 유사도 계산"
      ]
    },
    {
      "cell_type": "code",
      "metadata": {
        "id": "fJmNWxK4y6km",
        "colab_type": "code",
        "colab": {}
      },
      "source": [
        "from sklearn.metrics.pairwise import linear_kernel"
      ],
      "execution_count": 0,
      "outputs": []
    },
    {
      "cell_type": "code",
      "metadata": {
        "id": "cbm7M16Y31ya",
        "colab_type": "code",
        "colab": {}
      },
      "source": [
        "cosine_sim = linear_kernel(tfidf_mat, tfidf_mat)"
      ],
      "execution_count": 0,
      "outputs": []
    },
    {
      "cell_type": "code",
      "metadata": {
        "id": "0-71XF155XwH",
        "colab_type": "code",
        "colab": {}
      },
      "source": [
        "cosine_sim"
      ],
      "execution_count": 0,
      "outputs": []
    },
    {
      "cell_type": "markdown",
      "metadata": {
        "id": "rPgUx1z59KGx",
        "colab_type": "text"
      },
      "source": [
        "### 1.2.5 특정 영화와 유사한 영화찾기"
      ]
    },
    {
      "cell_type": "markdown",
      "metadata": {
        "id": "R8g7yIHI70_B",
        "colab_type": "text"
      },
      "source": [
        "#### 1.2.5.1 [영화이름과 인덱스(key)] 추출"
      ]
    },
    {
      "cell_type": "code",
      "metadata": {
        "id": "pLglW7dY7vwd",
        "colab_type": "code",
        "colab": {}
      },
      "source": [
        "# index를 value로 title_column을 index로\n",
        "\n",
        "temp = pd.Series(data[:20000].index, index = data['title'].head(20000))\n",
        "\n",
        "# index를 기준으로 중복을 제거한다\n",
        "# 특정 키 값으로도 가능하다. \n",
        "#temp.drop_duplicates()\n",
        "\n",
        "idx = temp"
      ],
      "execution_count": 0,
      "outputs": []
    },
    {
      "cell_type": "code",
      "metadata": {
        "id": "ArvKWrAnA2U0",
        "colab_type": "code",
        "colab": {}
      },
      "source": [
        "len(cosine_sim)"
      ],
      "execution_count": 0,
      "outputs": []
    },
    {
      "cell_type": "markdown",
      "metadata": {
        "id": "NQuRqo-7AvB7",
        "colab_type": "text"
      },
      "source": [
        "#### 1.2.5.2 유사도와 인덱스(key) 결합"
      ]
    },
    {
      "cell_type": "code",
      "metadata": {
        "id": "FzAUwnlT7dSl",
        "colab_type": "code",
        "colab": {}
      },
      "source": [
        "search_title = input('title : ')\n",
        "\n",
        "idx_title = idx[search_title]\n",
        "print('index', idx_title)\n",
        "\n",
        "cosine_sim[idx_title]\n",
        "\n",
        "scores = pd.Series(np.arange(0,20000), index = cosine_sim[idx_title])"
      ],
      "execution_count": 0,
      "outputs": []
    },
    {
      "cell_type": "code",
      "metadata": {
        "id": "vKCu2v-VOCco",
        "colab_type": "code",
        "colab": {}
      },
      "source": [
        "cosine_sim[idx_title].argsort()[::-1][0:10]"
      ],
      "execution_count": 0,
      "outputs": []
    },
    {
      "cell_type": "markdown",
      "metadata": {
        "id": "AlR6aB_eENBh",
        "colab_type": "text"
      },
      "source": [
        "#### 1.2.5.3 유사도로 정렬"
      ]
    },
    {
      "cell_type": "code",
      "metadata": {
        "id": "3pGsTr5Z9wVH",
        "colab_type": "code",
        "colab": {}
      },
      "source": [
        "sorted_scores = scores.sort_index(ascending = False)\n",
        "sorted_scores"
      ],
      "execution_count": 0,
      "outputs": []
    },
    {
      "cell_type": "markdown",
      "metadata": {
        "id": "l3xKb0bqERNV",
        "colab_type": "text"
      },
      "source": [
        "#### 1.2.5.4 정렬된 유사도에서 영화 인덱스 추출 "
      ]
    },
    {
      "cell_type": "code",
      "metadata": {
        "id": "BkRaByHuCNH0",
        "colab_type": "code",
        "colab": {}
      },
      "source": [
        "target_idxs = list(sorted_scores.iloc[1:10])"
      ],
      "execution_count": 0,
      "outputs": []
    },
    {
      "cell_type": "markdown",
      "metadata": {
        "id": "rmgq1HioEcC9",
        "colab_type": "text"
      },
      "source": [
        "#### 1.2.5.5 영화이름-인덱스로 조회"
      ]
    },
    {
      "cell_type": "code",
      "metadata": {
        "id": "hUcJKwgyEbrY",
        "colab_type": "code",
        "colab": {}
      },
      "source": [
        "for title_idx in target_idxs:\n",
        "  print(data['overview'].iloc[title_idx])"
      ],
      "execution_count": 0,
      "outputs": []
    },
    {
      "cell_type": "markdown",
      "metadata": {
        "id": "K7jip61pU-fC",
        "colab_type": "text"
      },
      "source": [
        "### 1.2.6"
      ]
    },
    {
      "cell_type": "code",
      "metadata": {
        "id": "cUzGrkIdNmQq",
        "colab_type": "code",
        "colab": {}
      },
      "source": [
        "data['overview']"
      ],
      "execution_count": 0,
      "outputs": []
    },
    {
      "cell_type": "code",
      "metadata": {
        "id": "K_KbbRaaNCOa",
        "colab_type": "code",
        "colab": {}
      },
      "source": [
        ""
      ],
      "execution_count": 0,
      "outputs": []
    }
  ]
}